{
 "cells": [
  {
   "cell_type": "code",
   "execution_count": 50,
   "metadata": {},
   "outputs": [],
   "source": [
    "import pandas as pd\n",
    "import os\n",
    "\n",
    "from sklearn.metrics import accuracy_score\n",
    "from joblib import dump, load\n",
    "from sklearn.model_selection import train_test_split\n",
    "from sklearn.model_selection import GridSearchCV\n",
    "from sklearn.linear_model import LogisticRegression\n",
    "from sklearn.tree import DecisionTreeClassifier\n",
    "from sklearn.ensemble import RandomForestClassifier\n",
    "RANDOM_STATE = 42"
   ]
  },
  {
   "attachments": {},
   "cell_type": "markdown",
   "metadata": {},
   "source": [
    "# Loading data"
   ]
  },
  {
   "cell_type": "code",
   "execution_count": 51,
   "metadata": {},
   "outputs": [],
   "source": [
    "df = pd.read_csv(\"../data/processed/data.csv\")\n",
    "\n",
    "X = df.drop(['PATHOLOGY'], axis=1)\n",
    "y = df['PATHOLOGY']\n",
    "X_train, X_test, y_train, y_test = train_test_split(X, y, test_size=0.2, random_state=RANDOM_STATE)"
   ]
  },
  {
   "attachments": {},
   "cell_type": "markdown",
   "metadata": {},
   "source": [
    "# Logistic regression"
   ]
  },
  {
   "cell_type": "code",
   "execution_count": 64,
   "metadata": {},
   "outputs": [
    {
     "name": "stdout",
     "output_type": "stream",
     "text": [
      "Best param : {'C': 1}\n",
      "Accuracy : 0.988988601633593\n"
     ]
    }
   ],
   "source": [
    "parameters = {'C': [0.01, 0.1, 1, 10]}\n",
    "\n",
    "logreg_model = LogisticRegression(random_state=RANDOM_STATE, max_iter=1000)\n",
    "logreg_model = GridSearchCV(logreg_model, parameters)\n",
    "logreg_model.fit(X_train, y_train)\n",
    "\n",
    "print(\"Best param :\", logreg_model.best_params_)\n",
    "print(\"Accuracy :\",logreg_model.best_score_)\n",
    "\n",
    "# 25 minutes"
   ]
  },
  {
   "cell_type": "code",
   "execution_count": 67,
   "metadata": {},
   "outputs": [
    {
     "data": {
      "text/plain": [
       "0.9888633973807476"
      ]
     },
     "execution_count": 67,
     "metadata": {},
     "output_type": "execute_result"
    }
   ],
   "source": [
    "logreg_model = LogisticRegression(random_state=RANDOM_STATE, max_iter=1000, C=1)\n",
    "logreg_model.fit(X_train, y_train)\n",
    "\n",
    "pred = logreg_model.predict(X_test)\n",
    "accuracy_score(y_test, pred)"
   ]
  },
  {
   "cell_type": "code",
   "execution_count": 68,
   "metadata": {},
   "outputs": [],
   "source": [
    "dump(logreg_model, \"../models/logreg_model.joblib\");"
   ]
  },
  {
   "cell_type": "code",
   "execution_count": 76,
   "metadata": {},
   "outputs": [
    {
     "name": "stdout",
     "output_type": "stream",
     "text": [
      "File size: 0.083 mb\n"
     ]
    }
   ],
   "source": [
    "size = os.path.getsize(\"../models/logreg_model.joblib\") / 1024 / 1024\n",
    "print(\"File size:\", round(size, 3), \"mb\")"
   ]
  },
  {
   "attachments": {},
   "cell_type": "markdown",
   "metadata": {},
   "source": [
    "# Decision tree"
   ]
  },
  {
   "cell_type": "code",
   "execution_count": 53,
   "metadata": {},
   "outputs": [
    {
     "name": "stdout",
     "output_type": "stream",
     "text": [
      "Best param : {'max_depth': 100}\n",
      "Accuracy : 0.9792079932022191\n"
     ]
    }
   ],
   "source": [
    "parameters = {'max_depth' : [20, 40, 60, 80, 100, 120, 140]}\n",
    "tree_model = DecisionTreeClassifier(random_state=RANDOM_STATE)\n",
    "tree_model = GridSearchCV(tree_model, parameters)\n",
    "tree_model.fit(X_train, y_train)\n",
    "\n",
    "print(\"Best param :\", tree_model.best_params_)\n",
    "print(\"Accuracy :\",tree_model.best_score_)"
   ]
  },
  {
   "cell_type": "code",
   "execution_count": 54,
   "metadata": {},
   "outputs": [
    {
     "name": "stdout",
     "output_type": "stream",
     "text": [
      "Best param : {'max_depth': 85}\n",
      "Accuracy : 0.9792677371395623\n"
     ]
    }
   ],
   "source": [
    "parameters = {'max_depth' : [85, 90, 95, 100, 105, 110]}\n",
    "tree_model = DecisionTreeClassifier(random_state=RANDOM_STATE)\n",
    "tree_model = GridSearchCV(tree_model, parameters)\n",
    "tree_model.fit(X_train, y_train)\n",
    "\n",
    "print(\"Best param :\", tree_model.best_params_)\n",
    "print(\"Accuracy :\",tree_model.best_score_)"
   ]
  },
  {
   "cell_type": "code",
   "execution_count": 55,
   "metadata": {},
   "outputs": [
    {
     "name": "stdout",
     "output_type": "stream",
     "text": [
      "Best param : {'max_depth': 96}\n",
      "Accuracy : 0.9792079932022191\n"
     ]
    }
   ],
   "source": [
    "parameters = {'max_depth' : [96, 97, 98, 99]}\n",
    "tree_model = DecisionTreeClassifier(random_state=RANDOM_STATE)\n",
    "tree_model = GridSearchCV(tree_model, parameters)\n",
    "tree_model.fit(X_train, y_train)\n",
    "\n",
    "print(\"Best param :\", tree_model.best_params_)\n",
    "print(\"Accuracy :\",tree_model.best_score_)"
   ]
  },
  {
   "cell_type": "code",
   "execution_count": 63,
   "metadata": {},
   "outputs": [
    {
     "data": {
      "text/plain": [
       "0.9780135742280852"
      ]
     },
     "execution_count": 63,
     "metadata": {},
     "output_type": "execute_result"
    }
   ],
   "source": [
    "tree_model = DecisionTreeClassifier(random_state=RANDOM_STATE, max_depth = 96)\n",
    "tree_model.fit(X_train, y_train)\n",
    "\n",
    "pred = tree_model.predict(X_test)\n",
    "accuracy_score(y_test, pred)"
   ]
  },
  {
   "cell_type": "code",
   "execution_count": 58,
   "metadata": {},
   "outputs": [],
   "source": [
    "dump(tree_model, \"../models/tree_model.joblib\");"
   ]
  },
  {
   "cell_type": "code",
   "execution_count": 75,
   "metadata": {},
   "outputs": [
    {
     "name": "stdout",
     "output_type": "stream",
     "text": [
      "File size: 3.04 mb\n"
     ]
    }
   ],
   "source": [
    "size = os.path.getsize(\"../models/tree_model.joblib\") / 1024 / 1024\n",
    "print(\"File size:\", round(size, 3), \"mb\")"
   ]
  },
  {
   "attachments": {},
   "cell_type": "markdown",
   "metadata": {},
   "source": [
    "# Random Forest"
   ]
  },
  {
   "cell_type": "code",
   "execution_count": null,
   "metadata": {},
   "outputs": [
    {
     "name": "stdout",
     "output_type": "stream",
     "text": [
      "Best param : {'max_depth': 80, 'n_estimators': 80}\n",
      "Accuracy : 0.9836942059103213\n"
     ]
    }
   ],
   "source": [
    "parameters = { \n",
    "    'n_estimators': [, 7080, 90, 100],\n",
    "    'max_depth' : [60, 70, 80, 90],\n",
    "}\n",
    "\n",
    "forest_model = RandomForestClassifier(random_state=RANDOM_STATE)\n",
    "forest_model = GridSearchCV(forest_model, parameters)\n",
    "forest_model.fit(X_train, y_train)\n",
    "\n",
    "print(\"Best param :\", forest_model.best_params_)\n",
    "print(\"Accuracy :\",forest_model.best_score_)"
   ]
  },
  {
   "cell_type": "code",
   "execution_count": null,
   "metadata": {},
   "outputs": [
    {
     "data": {
      "text/plain": [
       "0.9827926837040342"
      ]
     },
     "execution_count": 47,
     "metadata": {},
     "output_type": "execute_result"
    }
   ],
   "source": [
    "forest_model = RandomForestClassifier(random_state=RANDOM_STATE, max_depth= 80, n_estimators=80)\n",
    "forest_model.fit(X_train, y_train)\n",
    "pred = forest_model.predict(X_test)\n",
    "accuracy_score(y_test, pred)"
   ]
  },
  {
   "cell_type": "code",
   "execution_count": null,
   "metadata": {},
   "outputs": [],
   "source": [
    "dump(forest_model, \"../models/forest_model.joblib\");"
   ]
  },
  {
   "cell_type": "code",
   "execution_count": 74,
   "metadata": {},
   "outputs": [
    {
     "name": "stdout",
     "output_type": "stream",
     "text": [
      "File size: 320.455 mb\n"
     ]
    }
   ],
   "source": [
    "size = os.path.getsize(\"../models/forest_model.joblib\") / 1024 / 1024\n",
    "print(\"File size:\", round(size, 3), \"mb\")"
   ]
  },
  {
   "attachments": {},
   "cell_type": "markdown",
   "metadata": {},
   "source": [
    "# Итог\n",
    "\n",
    "Логистическая регрессия: точность 98%, вес < 1 мегабайт\n",
    "\n",
    "Решающие деревья: точность 97%, вес 3 мегабайта\n",
    "\n",
    "Логистическая регрессия: точность 98%, вес < 320 мегабайт\n",
    "\n",
    "Мой выбор - лог регрессия"
   ]
  }
 ],
 "metadata": {
  "kernelspec": {
   "display_name": "ml",
   "language": "python",
   "name": "python3"
  },
  "language_info": {
   "codemirror_mode": {
    "name": "ipython",
    "version": 3
   },
   "file_extension": ".py",
   "mimetype": "text/x-python",
   "name": "python",
   "nbconvert_exporter": "python",
   "pygments_lexer": "ipython3",
   "version": "3.10.8"
  },
  "orig_nbformat": 4
 },
 "nbformat": 4,
 "nbformat_minor": 2
}
